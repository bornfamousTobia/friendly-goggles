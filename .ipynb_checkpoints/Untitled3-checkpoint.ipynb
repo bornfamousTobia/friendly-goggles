{
 "cells": [
  {
   "cell_type": "code",
   "execution_count": null,
   "id": "523fd8f2-edf1-4d03-82ff-f6f155d79452",
   "metadata": {},
   "outputs": [],
   "source": []
  },
  {
   "cell_type": "code",
   "execution_count": null,
   "id": "7a08752d-9ebc-4b44-8815-75020fac51e9",
   "metadata": {},
   "outputs": [],
   "source": []
  }
 ],
 "metadata": {
  "kernelspec": {
   "display_name": "Python 3 (ipykernel)",
   "language": "python",
   "name": "python3"
  },
  "language_info": {
   "codemirror_mode": {
    "name": "ipython",
    "version": 3
   },
   "file_extension": ".py",
   "mimetype": "text/x-python",
   "name": "python",
   "nbconvert_exporter": "python",
   "pygments_lexer": "ipython3",
   "version": "3.10.4"
  }
 },
 "nbformat": 4,
 "nbformat_minor": 5
}
